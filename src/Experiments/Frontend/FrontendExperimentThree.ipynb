{
 "cells": [
  {
   "cell_type": "markdown",
   "metadata": {},
   "source": [
    "# LangChain Experiement Number 1"
   ]
  },
  {
   "cell_type": "code",
   "execution_count": 1,
   "metadata": {},
   "outputs": [],
   "source": [
    "import openai\n",
    "import os\n",
    "import dotenv\n",
    "dotenv.load_dotenv()\n",
    "from langchain.chat_models import ChatOpenAI\n",
    "from langchain.prompts import PromptTemplate\n",
    "from langchain.chains import LLMChain\n",
    "import json"
   ]
  },
  {
   "cell_type": "markdown",
   "metadata": {},
   "source": [
    "## Sample Project"
   ]
  },
  {
   "cell_type": "code",
   "execution_count": 2,
   "metadata": {},
   "outputs": [],
   "source": [
    "project_details=\"\"\"\n",
    "We're building a comprehensive smart city solution, aiming to enhance the quality of urban life by using digital technology. This solution will have numerous interconnected components and features:\n",
    "\n",
    "Smart Traffic Management System: Uses AI to analyze real-time traffic data, predict congestion, and control traffic lights to optimize traffic flow. It will also include a predictive maintenance system for traffic infrastructure.\n",
    "\n",
    "Public Safety System: Incorporates facial recognition technology and predictive policing algorithms to ensure safety. This system will integrate with city surveillance cameras and police databases.\n",
    "\n",
    "Waste Management System: Implements smart bins equipped with sensors to monitor waste levels and schedule optimal pick-up times.\n",
    "\n",
    "Smart Energy Grid: Enables real-time monitoring of energy consumption and supply at an individual household level, while also integrating renewable energy sources.\n",
    "\n",
    "Urban Farming: Incorporates vertical farming technologies, automated irrigation systems, and AI-powered pest prediction and prevention.\n",
    "\n",
    "E-Government Portal: A central web portal for all government services, integrating multiple departmental systems and databases, complete with secure identity verification and multi-language support.\n",
    "\n",
    "Public Transportation System: A fully automated scheduling and ticketing system for all city public transportation, including buses, subways, and bike rentals. It will use AI to optimize routes and schedules based on real-time data.\n",
    "\n",
    "Environment Monitoring: Implementing IoT sensors across the city to monitor air and water quality in real time.\n",
    "\"\"\"\n",
    "project_technologies=\"\"\"\n",
    "The project will be developed using a range of technologies including, but not limited to, Python, TensorFlow, React.js, Node.js, PostgreSQL, Docker, Kubernetes, AWS, IoT protocols, and various data science and AI/ML libraries.\n",
    "\n",
    "This system will have to comply with stringent regulations and standards for data security and privacy, including GDPR and ISO 27001. It will also require robust scalability, fault tolerance, and multi-region availability to cater to the entire city's population.\n",
    "\n",
    "Additionally, the system will need to be user-friendly, accessible, and offer multi-language support to cater to the diverse user base in the city.\n",
    "\"\"\""
   ]
  },
  {
   "cell_type": "markdown",
   "metadata": {},
   "source": [
    "### Setting Up Chain No. 1: Feature Retrieval"
   ]
  },
  {
   "cell_type": "code",
   "execution_count": 3,
   "metadata": {},
   "outputs": [
    {
     "name": "stdout",
     "output_type": "stream",
     "text": [
      "MVP Frontend Features:\n",
      "1. Smart Traffic Management System:\n",
      "- Real-time traffic data visualization: Display a map with real-time traffic data, including congestion levels and traffic flow.\n",
      "- Traffic light control: Allow users to manually control traffic lights to optimize traffic flow.\n",
      "- Predictive maintenance system: Show alerts and notifications for maintenance requirements of traffic infrastructure.\n",
      "\n",
      "2. Public Safety System:\n",
      "- Facial recognition integration: Display a live video feed with facial recognition overlays to identify individuals.\n",
      "- Predictive policing alerts: Show alerts for potential criminal activities based on predictive policing algorithms.\n",
      "\n",
      "3. Waste Management System:\n",
      "- Smart bin monitoring: Display the status of smart bins, including waste levels and optimal pick-up times.\n",
      "\n",
      "4. Smart Energy Grid:\n",
      "- Real-time energy consumption monitoring: Display energy consumption data for individual households.\n",
      "- Renewable energy integration: Show the contribution of renewable energy sources to the energy grid.\n",
      "\n",
      "5. Urban Farming:\n",
      "- Vertical farming monitoring: Display the status of vertical farming systems, including plant growth and irrigation levels.\n",
      "- Pest prediction and prevention alerts: Show alerts for potential pest infestations based on AI predictions.\n",
      "\n",
      "6. E-Government Portal:\n",
      "- Centralized government services: Provide a user-friendly interface to access various government services.\n",
      "- Secure identity verification: Implement a secure identity verification system for user authentication.\n",
      "- Multi-language support: Offer multi-language support for diverse user base.\n",
      "\n",
      "Additional Frontend Features:\n",
      "1. Public Transportation System:\n",
      "- Automated scheduling and ticketing: Allow users to view and purchase tickets for public transportation.\n",
      "- Real-time route optimization: Display optimized routes and schedules based on real-time data.\n",
      "\n",
      "2. Environment Monitoring:\n",
      "- Real-time air and water quality visualization: Display the current air and water quality levels across the city using IoT sensor data.\n",
      "\n",
      "Note: The additional features listed above are not part of the MVP but can be implemented to enhance the overall functionality of the smart city solution.\n"
     ]
    }
   ],
   "source": [
    "llm = ChatOpenAI(temperature=0, max_tokens=1000, model=\"gpt-3.5-turbo-0613\")\n",
    "prompt = PromptTemplate(\n",
    "    input_variables=[\"project_details\", \"project_technologies\"],\n",
    "    template=\"\"\"\n",
    "    Given the following project description and tech stack, identify and elaborate on the key frontend features that would be necessary for development. The frontend features should not involve backend api calls or database interactions. The frontend features should be described in terms of user stories or detailed feature requirements.\n",
    "    This project is a hackathon project. Break apart the features into MVP and additional features. The MVP should be the minimum features necessary to have a working prototype.\n",
    "    Project description: {project_details}\n",
    "    Technologies: {project_technologies}\n",
    "    \"\"\"\n",
    ")\n",
    "\n",
    "chain = LLMChain(llm=llm, prompt=prompt)\n",
    "frontend_features = chain.run({\n",
    "    'project_details': project_details,\n",
    "    'project_technologies': project_technologies\n",
    "})\n",
    "print(frontend_features)"
   ]
  },
  {
   "cell_type": "markdown",
   "metadata": {},
   "source": [
    "## Setting Up Chain Two:  Feature Extraction"
   ]
  },
  {
   "cell_type": "code",
   "execution_count": 4,
   "metadata": {},
   "outputs": [
    {
     "name": "stdout",
     "output_type": "stream",
     "text": [
      "Architecture:\n",
      "The frontend architecture will follow a modular and scalable approach, utilizing a combination of microservices and a single-page application (SPA) design pattern. The frontend will be developed using React.js, a popular JavaScript library for building user interfaces. React.js allows for efficient rendering and component reusability, making it suitable for complex and interactive applications.\n",
      "\n",
      "Pages to be Developed:\n",
      "1. Dashboard: This page will serve as the main interface for users to access different smart city features. It will display an overview of the various systems and provide navigation to specific modules.\n",
      "\n",
      "Components for Dashboard:\n",
      "- Real-time Traffic Data Visualization: A map component that visualizes real-time traffic data, including congestion levels and traffic flow.\n",
      "- Traffic Light Control: A control panel component that allows users to manually control traffic lights.\n",
      "- Predictive Maintenance System: A notification component that displays alerts and notifications for maintenance requirements of traffic infrastructure.\n",
      "\n",
      "2. Public Safety System:\n",
      "- Facial Recognition Integration: A video feed component that displays a live video feed with facial recognition overlays to identify individuals.\n",
      "- Predictive Policing Alerts: A notification component that shows alerts for potential criminal activities based on predictive policing algorithms.\n",
      "\n",
      "3. Waste Management System:\n",
      "- Smart Bin Monitoring: A status component that displays the status of smart bins, including waste levels and optimal pick-up times.\n",
      "\n",
      "4. Smart Energy Grid:\n",
      "- Real-time Energy Consumption Monitoring: A data visualization component that displays energy consumption data for individual households.\n",
      "- Renewable Energy Integration: A chart component that shows the contribution of renewable energy sources to the energy grid.\n",
      "\n",
      "5. Urban Farming:\n",
      "- Vertical Farming Monitoring: A status component that displays the status of vertical farming systems, including plant growth and irrigation levels.\n",
      "- Pest Prediction and Prevention Alerts: A notification component that shows alerts for potential pest infestations based on AI predictions.\n",
      "\n",
      "6. E-Government Portal:\n",
      "- Centralized Government Services: A user-friendly interface component that provides access to various government services.\n",
      "- Secure Identity Verification: An authentication component that implements a secure identity verification system.\n",
      "- Multi-language Support: A language selection component that offers multi-language support for diverse users.\n",
      "\n",
      "Additional Frontend Features:\n",
      "1. Public Transportation System:\n",
      "- Automated Scheduling and Ticketing: A ticketing component that allows users to view and purchase tickets for public transportation.\n",
      "- Real-time Route Optimization: A map component that displays optimized routes and schedules based on real-time data.\n",
      "\n",
      "2. Environment Monitoring:\n",
      "- Real-time Air and Water Quality Visualization: A data visualization component that displays the current air and water quality levels across the city using IoT sensor data.\n",
      "\n",
      "Technical Considerations:\n",
      "- Data Security and Privacy: The system must comply with stringent regulations and standards for data security and privacy, including GDPR and ISO 27001. Encryption and secure communication protocols should be implemented.\n",
      "- Scalability and Fault Tolerance: The system should be designed to handle a large number of users and data. Load balancing, caching, and fault tolerance mechanisms should be implemented.\n",
      "- Multi-Region Availability: The system should be available across multiple regions of the city to cater to the entire population. This can be achieved through the use of cloud services and containerization technologies like Docker and Kubernetes.\n",
      "- User-Friendly and Accessible: The frontend should be designed with a user-friendly interface and accessible features to cater to users with different abilities. Accessibility standards like WCAG should be followed.\n",
      "- Multi-Language Support: The frontend should offer multi-language support to cater to the diverse user base in the city. Localization and internationalization techniques should be implemented.\n",
      "- Integration with Backend: The frontend will need to communicate with the backend systems to fetch and update data. RESTful APIs or GraphQL can be used for this purpose.\n",
      "- Real-Time Data Visualization: Real-time data visualization components should be designed to efficiently handle and update data in real-time. WebSocket or server-sent events can be used for real-time data updates.\n",
      "- IoT Integration: The frontend should be able to communicate with IoT devices and sensors to fetch and display data. IoT protocols like MQTT or CoAP can be used for this purpose.\n",
      "- Data Science and AI/ML Libraries: Various data science and AI/ML libraries like TensorFlow can be used for implementing predictive algorithms and data analysis.\n",
      "\n",
      "Overall, the frontend development will require a combination of modern web technologies, data visualization libraries, and integration with backend systems and IoT devices to create a comprehensive and user-friendly smart city solution.\n"
     ]
    }
   ],
   "source": [
    "specification_prompt = PromptTemplate(\n",
    "    input_variables=[\"frontend_features\", \"project_technologies\"],\n",
    "    template=\"\"\"\n",
    "    Given the extracted frontend features, create a detailed technical specification. \n",
    "    This specification should include the technologies to be used, the architecture, pages to be developed, and the components required for each page.\n",
    "    However, they should be split into two categories: MVP and additional features. The MVP should be the minimum features necessary to have a working prototype.\n",
    "    You should ignore the technologies for the backend and focus on the frontend.\n",
    "    Please also mention any other technical considerations.\n",
    "\n",
    "    Frontend Features: {frontend_features}\n",
    "    Project Technologies: {project_technologies}\n",
    "    \"\"\"\n",
    ")\n",
    "\n",
    "specification_chain = LLMChain(llm=llm, prompt=specification_prompt)\n",
    "specification = specification_chain.run({\n",
    "    'frontend_features': frontend_features,\n",
    "    'project_technologies': project_technologies\n",
    "})\n",
    "print(specification)"
   ]
  },
  {
   "cell_type": "markdown",
   "metadata": {},
   "source": [
    "## Setting Up Chain Three: AI Approval"
   ]
  },
  {
   "cell_type": "code",
   "execution_count": 5,
   "metadata": {},
   "outputs": [
    {
     "name": "stdout",
     "output_type": "stream",
     "text": [
      "{\"approval\": \"0\", \"comments\": \"The MVP features listed in the technical specification are quite extensive and complex. They involve a wide range of technologies and skills, including React.js, data visualization, IoT integration, AI/ML libraries, and more. While the team of 4 experienced developers might be able to complete some of these features within the two-day hackathon, it is highly unlikely that they will be able to complete all of them. The features that might pose the most challenge due to their complexity and the time required for proper implementation include the real-time traffic data visualization, facial recognition integration, predictive policing alerts, and the smart energy grid features. It is recommended to prioritize the most critical features and focus on those for the hackathon.\"}\n"
     ]
    }
   ],
   "source": [
    "approval_prompt = PromptTemplate(\n",
    "    input_variables=[\"technical_specification\", \"aspect\", \"group_size\", \"group_experience\"],\n",
    "    template=\"\"\"\n",
    "    Given the developed technical specification, conduct a thorough review of the MVP Features only for any inconsistencies or issues. \n",
    "    Also, evaluate whether the MVP Features, can be realistically completed within the two day hackathon for {group_size} people, , considering the complexity and the technology stack required.\n",
    "    \n",
    "    The MVP Features are specifically listed under the heading 'MVP Features'. \n",
    "    Please completely disregard any features or sections listed under 'Additional Features' or any similar headers.\n",
    "    This specification is only for the {aspect} aspect of the project, and should not be evaluated for other aspects.\n",
    "\n",
    "    Answer this question: Can the MVP Features be realistically completed within the two day hackathon for {group_size} people with this skill level: {group_experience}?\n",
    "    Output only a json with keys 'approval' and 'comments'. \n",
    "    If yes, the value of 'approval' should be '1' and the value of 'comments' should be an empty string\n",
    "    If not, the value of 'approval' should be '0' and the value of 'comments' should be a string with the issues and inconsistencies listed.\n",
    "\n",
    "    Technical Specification: {technical_specification}\n",
    "    \n",
    "    Output only a json with keys 'approval' and 'comments'. \n",
    "    \"\"\"\n",
    ")\n",
    "advanced_llm = ChatOpenAI(temperature=0, max_tokens=1000, model=\"gpt-4\")\n",
    "approval_chain = LLMChain(llm=advanced_llm, prompt=approval_prompt)\n",
    "approval = approval_chain.run({\n",
    "    'technical_specification': specification,\n",
    "    'aspect': 'frontend',\n",
    "    'group_size': '4',\n",
    "    'group_experience': 'experienced'\n",
    "})\n",
    "\n",
    "print(approval)"
   ]
  },
  {
   "cell_type": "markdown",
   "metadata": {},
   "source": [
    "## Setting Up Chain Four: AI Revision"
   ]
  },
  {
   "cell_type": "code",
   "execution_count": 7,
   "metadata": {},
   "outputs": [
    {
     "name": "stdout",
     "output_type": "stream",
     "text": [
      "Modified Features: MVP Frontend Features:\n",
      "1. Smart Traffic Management System:\n",
      "- Real-time traffic data visualization: Display a map with real-time traffic data, including congestion levels.\n",
      "- Traffic light control: Allow users to manually control traffic lights at selected intersections.\n",
      "\n",
      "2. Public Safety System:\n",
      "- Facial recognition integration: Display a live video feed with basic facial recognition overlays to detect known individuals.\n",
      "- Crime incident alerts: Show alerts for reported criminal activities in the vicinity.\n",
      "\n",
      "3. Waste Management System:\n",
      "- Smart bin monitoring: Display the status of smart bins, including waste levels.\n",
      "\n",
      "4. Smart Energy Grid:\n",
      "- Real-time energy consumption monitoring: Display aggregated energy consumption data for the entire city.\n",
      "- Renewable energy integration: Show the overall contribution of renewable energy sources to the energy grid.\n",
      "\n",
      "5. Urban Farming:\n",
      "- Vertical farming monitoring: Display the status of vertical farming systems, including plant growth.\n",
      "- Pest prediction alerts: Show alerts for potential pest infestations based on basic AI predictions.\n",
      "\n",
      "6. E-Government Portal:\n",
      "- Centralized government services: Provide a user-friendly interface to access selected government services.\n",
      "- Secure identity verification: Implement a secure identity verification system for user authentication.\n",
      "\n",
      "Additional Frontend Features:\n",
      "1. Public Transportation System:\n",
      "- Automated scheduling and ticketing: Allow users to view and purchase tickets for public transportation.\n",
      "- Real-time bus/train locations: Display the real-time locations of buses/trains on selected routes.\n",
      "\n",
      "2. Environment Monitoring:\n",
      "- Real-time air quality visualization: Display the current air quality levels across the city using IoT sensor data.\n",
      "\n",
      "Note: The modified features focus on the core functionality of each system while reducing complexity and scope. The features that required advanced technologies or extensive implementation time have been simplified or removed. This allows the team to focus on implementing the most critical features within the two-day hackathon.\n"
     ]
    }
   ],
   "source": [
    "revision_prompt = PromptTemplate(\n",
    "    input_variables=[\"original_features\", \"comments\"],\n",
    "    template=\"\"\"\n",
    "    Given the original features and the comments provided after the feasibility evaluation, modify the original features to make them simpler and more feasible for a two-day hackathon.\n",
    "    The aim is to reduce the complexity and scope of the original features while preserving the core functionality of the system. \n",
    "    The comments provide specific areas of concern that should be addressed in the modified features.\n",
    "\n",
    "    Original Features: {original_features}\n",
    "    Comments: {comments}\n",
    "\n",
    "    Based on this, please provide a simplified version of the original features that addresses the concerns mentioned in the comments.\n",
    "    \"\"\"\n",
    ")\n",
    "\n",
    "approval_object = json.loads(approval)\n",
    "revision_chain = LLMChain(llm=llm, prompt=revision_prompt)\n",
    "frontend_features = revision_chain.run({\n",
    "    'original_features': frontend_features,\n",
    "    'comments': approval_object['comments']\n",
    "})\n",
    "\n",
    "print(frontend_features)\n"
   ]
  },
  {
   "cell_type": "markdown",
   "metadata": {},
   "source": [
    "Now lets regenerate the specifications"
   ]
  },
  {
   "cell_type": "code",
   "execution_count": 8,
   "metadata": {},
   "outputs": [
    {
     "name": "stdout",
     "output_type": "stream",
     "text": [
      "Architecture:\n",
      "The frontend architecture will follow a modular and component-based approach to ensure scalability, reusability, and maintainability. The application will be built using a single-page application (SPA) framework, such as React.js, to provide a seamless user experience.\n",
      "\n",
      "MVP Frontend Features:\n",
      "1. Smart Traffic Management System:\n",
      "- Pages: Traffic Dashboard\n",
      "- Components: Map component, Traffic Light Control component\n",
      "\n",
      "2. Public Safety System:\n",
      "- Pages: Public Safety Dashboard\n",
      "- Components: Video Feed component, Facial Recognition Overlay component, Crime Incident Alerts component\n",
      "\n",
      "3. Waste Management System:\n",
      "- Pages: Waste Management Dashboard\n",
      "- Components: Smart Bin Status component\n",
      "\n",
      "4. Smart Energy Grid:\n",
      "- Pages: Energy Grid Dashboard\n",
      "- Components: Energy Consumption Chart component, Renewable Energy Contribution component\n",
      "\n",
      "5. Urban Farming:\n",
      "- Pages: Urban Farming Dashboard\n",
      "- Components: Vertical Farming Status component, Pest Prediction Alerts component\n",
      "\n",
      "6. E-Government Portal:\n",
      "- Pages: Government Services Portal\n",
      "- Components: Service Access Interface component, Identity Verification component\n",
      "\n",
      "Additional Frontend Features:\n",
      "1. Public Transportation System:\n",
      "- Pages: Transportation Dashboard\n",
      "- Components: Schedule and Ticketing component, Real-time Bus/Train Locations component\n",
      "\n",
      "2. Environment Monitoring:\n",
      "- Pages: Environment Monitoring Dashboard\n",
      "- Components: Air Quality Visualization component\n",
      "\n",
      "Technical Considerations:\n",
      "1. Real-time Data Visualization: The frontend will need to establish a real-time connection with the backend to receive and display real-time data updates. Technologies like WebSockets or Server-Sent Events can be used for this purpose.\n",
      "\n",
      "2. Integration with Backend APIs: The frontend will need to communicate with the backend APIs to fetch and update data. RESTful APIs or GraphQL can be used for this purpose.\n",
      "\n",
      "3. Responsive Design: The frontend should be designed to be responsive and compatible with different screen sizes and devices.\n",
      "\n",
      "4. Security and Privacy: The frontend should implement secure communication protocols (HTTPS) and follow best practices for data security and privacy. User authentication and authorization mechanisms should be implemented to ensure secure access to sensitive data.\n",
      "\n",
      "5. Internationalization and Localization: The frontend should support multiple languages and provide localization options to cater to the diverse user base.\n",
      "\n",
      "6. Performance Optimization: Techniques like code splitting, lazy loading, and caching should be implemented to optimize the performance of the frontend application.\n",
      "\n",
      "7. Testing and Quality Assurance: Unit testing, integration testing, and end-to-end testing should be performed to ensure the quality and reliability of the frontend application.\n",
      "\n",
      "8. Deployment and Scalability: The frontend application should be containerized using Docker and deployed on a scalable infrastructure using Kubernetes or a similar orchestration tool. Load balancing and auto-scaling mechanisms should be implemented to handle increased traffic and ensure high availability.\n",
      "\n",
      "9. Monitoring and Logging: Proper monitoring and logging mechanisms should be implemented to track the performance, errors, and usage of the frontend application.\n",
      "\n",
      "10. Documentation: Detailed documentation should be provided for the frontend application, including installation instructions, usage guidelines, and API documentation.\n"
     ]
    }
   ],
   "source": [
    "specification = specification_chain.run({\n",
    "    'frontend_features': frontend_features,\n",
    "    'project_technologies': project_technologies\n",
    "})\n",
    "print(specification)"
   ]
  },
  {
   "cell_type": "markdown",
   "metadata": {},
   "source": [
    "Finally lets do another feasibility test"
   ]
  },
  {
   "cell_type": "code",
   "execution_count": 9,
   "metadata": {},
   "outputs": [
    {
     "name": "stdout",
     "output_type": "stream",
     "text": [
      "{\"approval\": \"0\", \"comments\": \"The MVP features listed in the technical specification are quite complex and involve a wide range of technologies and components. Given the complexity of the features, it is unlikely that they can be realistically completed within a two-day hackathon by a team of four experienced individuals. Some of the potential issues and inconsistencies include: 1. The Smart Traffic Management System, Public Safety System, and Waste Management System all require real-time data visualization, which can be complex and time-consuming to implement. 2. The Facial Recognition Overlay component in the Public Safety System might require advanced machine learning skills and could be challenging to implement within the given timeframe. 3. The Energy Consumption Chart component and Renewable Energy Contribution component in the Smart Energy Grid feature require complex data visualization and might be difficult to implement within the given timeframe. 4. The Urban Farming feature involves a Pest Prediction Alerts component, which might require advanced machine learning skills and could be challenging to implement within the given timeframe. 5. The E-Government Portal feature involves an Identity Verification component, which might require complex integration with third-party services and could be challenging to implement within the given timeframe.\"}\n"
     ]
    }
   ],
   "source": [
    "approval = approval_chain.run({\n",
    "    'technical_specification': specification,\n",
    "    'aspect': 'frontend',\n",
    "    'group_size': '4',\n",
    "    'group_experience': \"experienced\"\n",
    "})\n",
    "print(approval)"
   ]
  },
  {
   "cell_type": "markdown",
   "metadata": {},
   "source": [
    "As you can see, this new mvp is much more feasible than the previous one, but yet still not the best. We can keep on iterating on this until we get a good enough mvp.\n",
    "But Now, we will define a reusable function instead of calling each chain one by one."
   ]
  },
  {
   "cell_type": "code",
   "execution_count": 10,
   "metadata": {},
   "outputs": [
    {
     "name": "stdout",
     "output_type": "stream",
     "text": [
      "{\"approval\": \"0\", \"comments\": \"The MVP features listed in the technical specification are quite complex and involve integration with real-time data sources, responsive design, localization, security, scalability, accessibility, performance optimization, testing, deployment, and CI/CD. Given the complexity of these features and the technology stack required, it is unlikely that they can be realistically completed within a two-day hackathon by a team of four experienced individuals. The team may need to prioritize certain features or simplify the scope to fit within the time constraints.\"}\n"
     ]
    }
   ],
   "source": [
    "def revision(old_features, specification, approval):\n",
    "    approval_object = json.loads(approval)\n",
    "    if approval_object['approval'] == '1':\n",
    "        return specification\n",
    "    else:\n",
    "        frontend_features = revision_chain.run({\n",
    "            'original_features': old_features,\n",
    "            'comments': approval_object['comments']\n",
    "        })\n",
    "        \n",
    "        specification = specification_chain.run({\n",
    "            'frontend_features': frontend_features,\n",
    "            'project_technologies': project_technologies\n",
    "        })\n",
    "        \n",
    "        approval = approval_chain.run({\n",
    "            'technical_specification': specification,\n",
    "            'aspect': 'frontend',\n",
    "            'group_size': '4',\n",
    "            'group_experience': \"experienced\"\n",
    "        })\n",
    "        \n",
    "        return approval, specification, frontend_features\n",
    "        \n",
    "        \n",
    "approval, specification, frontend_features = revision(frontend_features, specification, approval)\n",
    "print(approval)"
   ]
  },
  {
   "cell_type": "markdown",
   "metadata": {},
   "source": [
    "The comment is less harsh now, but still not perfect. We can keep on iterating on this until we get a good enough mvp. But lets take a look the backend features again"
   ]
  },
  {
   "cell_type": "code",
   "execution_count": 11,
   "metadata": {},
   "outputs": [
    {
     "name": "stdout",
     "output_type": "stream",
     "text": [
      "Modified Features: MVP Frontend Features:\n",
      "1. Smart Traffic Management System:\n",
      "- Real-time traffic data visualization: Display a map with real-time traffic data, including congestion levels.\n",
      "\n",
      "2. Public Safety System:\n",
      "- Crime incident alerts: Show alerts for reported criminal activities in the vicinity.\n",
      "\n",
      "3. Waste Management System:\n",
      "- Smart bin monitoring: Display the status of smart bins, including waste levels.\n",
      "\n",
      "4. Smart Energy Grid:\n",
      "- Real-time energy consumption monitoring: Display aggregated energy consumption data for the entire city.\n",
      "\n",
      "5. Urban Farming:\n",
      "- Vertical farming monitoring: Display the status of vertical farming systems, including plant growth.\n",
      "\n",
      "6. E-Government Portal:\n",
      "- Centralized government services: Provide a user-friendly interface to access selected government services.\n",
      "\n",
      "Additional Frontend Features:\n",
      "1. Public Transportation System:\n",
      "- Real-time bus/train locations: Display the real-time locations of buses/trains on selected routes.\n",
      "\n",
      "2. Environment Monitoring:\n",
      "- Real-time air quality visualization: Display the current air quality levels across the city using IoT sensor data.\n",
      "\n",
      "Note: The modified features focus on the core functionality of each system while reducing complexity and scope. The features that required advanced technologies or extensive implementation time have been simplified or removed. This allows the team to focus on implementing the most critical features within the two-day hackathon.\n"
     ]
    }
   ],
   "source": [
    "print(frontend_features)"
   ]
  },
  {
   "cell_type": "markdown",
   "metadata": {},
   "source": [
    "### Continuous Revisions until approval\n",
    "\n",
    "Lets see if revising 5 times would make a difference"
   ]
  },
  {
   "cell_type": "code",
   "execution_count": 12,
   "metadata": {},
   "outputs": [
    {
     "name": "stderr",
     "output_type": "stream",
     "text": [
      "Retrying langchain.chat_models.openai.ChatOpenAI.completion_with_retry.<locals>._completion_with_retry in 1.0 seconds as it raised ServiceUnavailableError: The server is overloaded or not ready yet..\n"
     ]
    },
    {
     "name": "stdout",
     "output_type": "stream",
     "text": [
      "{\"approval\": \"1\", \"comments\": \"\"}\n",
      "Modified Features: MVP Frontend Features:\n",
      "1. Smart Traffic Management System:\n",
      "- Real-time traffic data visualization: Display a map with real-time traffic data, including congestion levels.\n",
      "\n",
      "2. Public Safety System:\n",
      "- Crime incident alerts: Show alerts for reported criminal activities in the vicinity.\n",
      "\n",
      "3. Waste Management System:\n",
      "- Smart bin monitoring: Display the status of smart bins, including waste levels.\n",
      "\n",
      "4. Smart Energy Grid:\n",
      "- Real-time energy consumption monitoring: Display aggregated energy consumption data for the entire city.\n",
      "\n",
      "Additional Frontend Features:\n",
      "1. Public Transportation System:\n",
      "- Real-time bus/train locations: Display the real-time locations of buses/trains on selected routes.\n",
      "\n",
      "2. Environment Monitoring:\n",
      "- Real-time air quality visualization: Display the current air quality levels across the city using IoT sensor data.\n",
      "\n",
      "Modified Features Explanation:\n",
      "\n",
      "1. Smart Traffic Management System:\n",
      "- The original feature of real-time traffic data visualization remains unchanged as it is a core functionality of the system.\n",
      "\n",
      "2. Public Safety System:\n",
      "- The original feature of crime incident alerts remains unchanged as it is a critical aspect of public safety.\n",
      "\n",
      "3. Waste Management System:\n",
      "- The original feature of smart bin monitoring remains unchanged as it provides valuable information about waste levels.\n",
      "\n",
      "4. Smart Energy Grid:\n",
      "- The original feature of real-time energy consumption monitoring remains unchanged as it is essential for monitoring energy usage.\n",
      "\n",
      "Additional Frontend Features Explanation:\n",
      "\n",
      "1. Public Transportation System:\n",
      "- The additional feature of real-time bus/train locations is added to provide information about the current locations of public transportation vehicles. This feature can be implemented using available APIs or data sources.\n",
      "\n",
      "2. Environment Monitoring:\n",
      "- The additional feature of real-time air quality visualization is added to display the current air quality levels across the city. This feature can be implemented using IoT sensor data or available air quality APIs.\n",
      "\n",
      "By simplifying the scope and focusing on the core functionalities, the modified features address the concerns mentioned in the comments. The team can now prioritize and implement these features within the two-day hackathon.\n",
      "=========================================\n"
     ]
    }
   ],
   "source": [
    "for i in range(5):\n",
    "    approval, specification, frontend_features = revision(frontend_features, specification, approval)\n",
    "    print(approval)\n",
    "    print(frontend_features)\n",
    "    print(\"=========================================\")\n",
    "    if(json.loads(approval)['approval'] == '1'):\n",
    "        break"
   ]
  },
  {
   "cell_type": "markdown",
   "metadata": {},
   "source": [
    "Nice! Our simplified project is now approved!"
   ]
  }
 ],
 "metadata": {
  "kernelspec": {
   "display_name": "Architect",
   "language": "python",
   "name": "python3"
  },
  "language_info": {
   "codemirror_mode": {
    "name": "ipython",
    "version": 3
   },
   "file_extension": ".py",
   "mimetype": "text/x-python",
   "name": "python",
   "nbconvert_exporter": "python",
   "pygments_lexer": "ipython3",
   "version": "3.11.4"
  },
  "orig_nbformat": 4
 },
 "nbformat": 4,
 "nbformat_minor": 2
}
