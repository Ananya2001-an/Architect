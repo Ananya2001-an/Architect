{
 "cells": [
  {
   "cell_type": "markdown",
   "metadata": {},
   "source": [
    "# LangChain Experiment Number 2"
   ]
  },
  {
   "cell_type": "code",
   "execution_count": 1,
   "metadata": {},
   "outputs": [],
   "source": [
    "from __future__ import annotations\n",
    "import openai\n",
    "from langchain.agents import Tool\n",
    "import os\n",
    "import dotenv\n",
    "dotenv.load_dotenv()\n",
    "from langchain.chat_models import ChatOpenAI\n",
    "from langchain.prompts import PromptTemplate\n",
    "from langchain.chains import LLMChain\n",
    "import asyncio\n",
    "\n",
    "\n",
    "from typing import Any, Dict, List, Optional\n",
    "\n",
    "from pydantic import Extra\n",
    "\n",
    "from langchain.schema import BaseLanguageModel\n",
    "from langchain.callbacks.manager import (\n",
    "    AsyncCallbackManagerForChainRun,\n",
    "    CallbackManagerForChainRun,\n",
    ")\n",
    "from langchain.chains.base import Chain\n",
    "from langchain.schema import BasePromptTemplate\n",
    "import json\n"
   ]
  },
  {
   "cell_type": "markdown",
   "metadata": {},
   "source": [
    "## Sample Project"
   ]
  },
  {
   "cell_type": "code",
   "execution_count": 2,
   "metadata": {},
   "outputs": [],
   "source": [
    "project_details=\"\"\"\n",
    "Basically you would put your hackathon idea in a text box\n",
    "and we would run like 3 llm chains in the background\n",
    "One for frontend one for backend, and then feed both chains into the last one which evaluates the two first chains if its feasible or not, and if it isn't, calls the first two chains again\n",
    "The first two will also return design specifications, eg an outline of the frontend and backend\n",
    "maybe another textbox in the frontend for skills/target categories\n",
    "\"\"\"\n",
    "project_technologies=\"\"\"\n",
    "OpenAI API\n",
    "StreamLit\n",
    "\"\"\""
   ]
  },
  {
   "cell_type": "markdown",
   "metadata": {},
   "source": [
    "## Setting Up the Frontend Function"
   ]
  },
  {
   "cell_type": "code",
   "execution_count": 4,
   "metadata": {},
   "outputs": [],
   "source": [
    "def frontend_func(\n",
    "        inputs: Dict[str, Any],\n",
    "        llm: BaseLanguageModel,\n",
    "        advanced_llm: BaseLanguageModel,\n",
    "    ) -> str:\n",
    "        # Feature Extraction\n",
    "        prompt = PromptTemplate(\n",
    "            input_variables=[\"project_details\", \"project_technologies\"],\n",
    "            template=\"\"\"\n",
    "            Given the following project description and tech stack, identify and elaborate on the key frontend features that would be necessary for development. The frontend features should not involve backend api calls or database interactions. The frontend features should be described in terms of user stories or detailed feature requirements.\n",
    "            This project is a hackathon project. Break apart the features into MVP and additional features. The MVP should be the minimum features necessary to have a working prototype.\n",
    "            Project description: {project_details}\n",
    "            Technologies: {project_technologies}\n",
    "            \"\"\"\n",
    "        )\n",
    "        chain = LLMChain(llm=llm, prompt=prompt)\n",
    "        frontend_features = chain.run(inputs)\n",
    "        \n",
    "        # Specification Creation\n",
    "        specification_prompt = PromptTemplate(\n",
    "            input_variables=[\"frontend_features\", \"project_technologies\"],\n",
    "            template=\"\"\"\n",
    "            Given the extracted frontend features, create a detailed technical specification. \n",
    "            This specification should include the technologies to be used, the architecture, pages to be developed, and the components required for each page.\n",
    "            However, they should be split into two categories: MVP and additional features. The MVP should be the minimum features necessary to have a working prototype.\n",
    "            You should ignore the technologies for the backend and focus on the frontend.\n",
    "            Please also mention any other technical considerations.\n",
    "\n",
    "            Frontend Features: {frontend_features}\n",
    "            Project Technologies: {project_technologies}\n",
    "            \"\"\"\n",
    "        )\n",
    "        specification_chain = LLMChain(llm=llm, prompt=specification_prompt)\n",
    "        specification = specification_chain.run({\n",
    "            'frontend_features': frontend_features,\n",
    "            'project_technologies': inputs['project_technologies']\n",
    "        })\n",
    "\n",
    "        # AI Approval\n",
    "        \n",
    "        approval_prompt = PromptTemplate(\n",
    "            input_variables=[\"technical_specification\", \"aspect\", \"group_size\", \"group_experience\"],\n",
    "            template=\"\"\"\n",
    "            Given the developed technical specification, conduct a thorough review of the MVP Features only for any inconsistencies or issues. \n",
    "            Also, evaluate whether the MVP Features, can be realistically completed within the two day hackathon for {group_size} people, considering the complexity and the technology stack required.\n",
    "            \n",
    "            The MVP Features are specifically listed under the heading 'MVP Features'. \n",
    "            Please completely disregard any features or sections listed under 'Additional Features' or any similar headers.\n",
    "            This specification is only for the {aspect} aspect of the project, and should not be evaluated for other aspects.\n",
    "\n",
    "            Answer this question: Can the MVP Features be realistically completed within the two day hackathon for {group_size} people with this skill level: {group_experience}?\n",
    "            Output only a json with keys 'approval' and 'comments'. \n",
    "            If yes, the value of 'approval' should be '1' and the value of 'comments' should be an empty string\n",
    "            If not, the value of 'approval' should be '0' and the value of 'comments' should be a string with the issues and inconsistencies listed.\n",
    "\n",
    "            Technical Specification: {technical_specification}\n",
    "            \n",
    "            Output only a json with keys 'approval' and 'comments'. \n",
    "            \"\"\"\n",
    "        )\n",
    "        \n",
    "        approval_chain = LLMChain(llm=advanced_llm, prompt=approval_prompt)\n",
    "        approval = approval_chain.run({\n",
    "            'technical_specification': specification,\n",
    "            'aspect': 'frontend',\n",
    "            'group_size': inputs['group_size'],\n",
    "            'group_experience': inputs['group_experience']\n",
    "        })\n",
    "        \n",
    "        approvals_object = json.loads(approval)\n",
    "        \n",
    "        return_obj = {\n",
    "            'approval': approvals_object['approval'],\n",
    "            'comments': approvals_object['comments'],\n",
    "            'idea': inputs['project_details'],\n",
    "            'features': frontend_features,\n",
    "            'specifications': specification\n",
    "        }\n",
    "        \n",
    "        return json.dumps(return_obj)\n",
    "        \n"
   ]
  },
  {
   "cell_type": "markdown",
   "metadata": {},
   "source": [
    "## Testing this custom function"
   ]
  },
  {
   "cell_type": "code",
   "execution_count": 6,
   "metadata": {},
   "outputs": [],
   "source": [
    "llm = ChatOpenAI(temperature=0, max_tokens=1000, model=\"gpt-3.5-turbo\")\n",
    "advanced_llm = ChatOpenAI(temperature=0, max_tokens=1000, model=\"gpt-4\")\n",
    "\n",
    "output = frontend_func(\n",
    "    inputs = {\n",
    "        'project_details': project_details,\n",
    "        \"project_technologies\": project_technologies,\n",
    "        \"group_size\": 4,\n",
    "        \"group_experience\": \"experienced\"\n",
    "    },\n",
    "    llm=llm,\n",
    "    advanced_llm=advanced_llm\n",
    ")"
   ]
  },
  {
   "cell_type": "code",
   "execution_count": 7,
   "metadata": {},
   "outputs": [
    {
     "data": {
      "text/plain": [
       "{'approval': '1',\n",
       " 'comments': '',\n",
       " 'idea': \"\\nBasically you would put your hackathon idea in a text box\\nand we would run like 3 llm chains in the background\\nOne for frontend one for backend, and then feed both chains into the last one which evaluates the two first chains if its feasible or not, and if it isn't, calls the first two chains again\\nThe first two will also return design specifications, eg an outline of the frontend and backend\\nmaybe another textbox in the frontend for skills/target categories\\n\",\n",
       " 'features': 'MVP Frontend Features:\\n1. User Input: The frontend should have a text box where users can input their hackathon idea.\\n2. Display Design Specifications: The frontend should display the design specifications generated by the backend LLN chain. This could include an outline of the frontend and backend components.\\n3. Feasibility Evaluation: The frontend should display the evaluation result from the last LLN chain, indicating whether the idea is feasible or not.\\n4. Retry Functionality: If the idea is deemed not feasible, the frontend should provide a button or option to retry the process, triggering the first two LLN chains again.\\n\\nAdditional Frontend Features:\\n1. Skill/Target Category Selection: The frontend could include a dropdown or input field where users can select or enter their skills or target categories related to their hackathon idea. This information can be used to enhance the evaluation process.\\n2. Real-time Feedback: As the LLN chains are running in the background, the frontend could display a loading spinner or progress bar to indicate the progress. Once the results are ready, they can be displayed in real-time.\\n3. Error Handling: The frontend should handle any errors or exceptions that may occur during the process and display appropriate error messages to the user.\\n4. User Authentication: If required, the frontend can include a user authentication system to ensure only authorized users can access the hackathon idea submission and evaluation process.\\n5. User Interface Enhancements: The frontend can be designed with a visually appealing and intuitive user interface, making it easy for users to interact with the application.\\n\\nIt is important to note that the given project description is quite brief and lacks specific details. Therefore, the identified frontend features are based on assumptions and may need further clarification from the project stakeholders.',\n",
       " 'specifications': 'Technical Specification:\\n\\nMVP Frontend Features:\\n1. User Input:\\n   - Technology: HTML, CSS, JavaScript\\n   - Component: Text box\\n\\n2. Display Design Specifications:\\n   - Technology: HTML, CSS, JavaScript\\n   - Component: Display area\\n\\n3. Feasibility Evaluation:\\n   - Technology: HTML, CSS, JavaScript\\n   - Component: Display area\\n\\n4. Retry Functionality:\\n   - Technology: HTML, CSS, JavaScript\\n   - Component: Button or option\\n\\nAdditional Frontend Features:\\n1. Skill/Target Category Selection:\\n   - Technology: HTML, CSS, JavaScript\\n   - Component: Dropdown or input field\\n\\n2. Real-time Feedback:\\n   - Technology: HTML, CSS, JavaScript\\n   - Component: Loading spinner or progress bar\\n\\n3. Error Handling:\\n   - Technology: HTML, CSS, JavaScript\\n   - Component: Error message display area\\n\\n4. User Authentication:\\n   - Technology: HTML, CSS, JavaScript\\n   - Component: User authentication system (e.g., login form, authentication API)\\n\\n5. User Interface Enhancements:\\n   - Technology: HTML, CSS, JavaScript\\n   - Component: Visually appealing and intuitive UI design\\n\\nTechnical Considerations:\\n1. OpenAI API:\\n   - The frontend will need to make API calls to the OpenAI API to retrieve the design specifications and feasibility evaluation results.\\n   - Technology: JavaScript (fetch or axios library)\\n\\n2. StreamLit:\\n   - StreamLit can be used as the framework for developing the frontend.\\n   - Technology: StreamLit (Python)\\n\\n3. Backend Integration:\\n   - The frontend will need to communicate with the backend LLN chain to trigger the evaluation process and retrieve the results.\\n   - Technology: API endpoints (REST or GraphQL)\\n\\n4. Data Storage:\\n   - If user authentication is implemented, the frontend may need to store user data securely.\\n   - Technology: Backend database (e.g., MySQL, MongoDB)\\n\\n5. Responsive Design:\\n   - The frontend should be designed to be responsive and compatible with different devices and screen sizes.\\n   - Technology: CSS media queries, responsive design frameworks (e.g., Bootstrap)\\n\\n6. Performance Optimization:\\n   - The frontend should be optimized for performance to ensure fast loading times and smooth user experience.\\n   - Technology: Minification, compression, caching techniques\\n\\n7. Cross-browser Compatibility:\\n   - The frontend should be tested and optimized for compatibility with different web browsers (e.g., Chrome, Firefox, Safari).\\n   - Technology: Browser compatibility testing, polyfills\\n\\n8. Security:\\n   - The frontend should implement necessary security measures to protect user data and prevent unauthorized access.\\n   - Technology: HTTPS, secure authentication mechanisms, input validation\\n\\nNote: The choice of technologies mentioned above is based on assumptions and can be adjusted based on project requirements and preferences.'}"
      ]
     },
     "execution_count": 7,
     "metadata": {},
     "output_type": "execute_result"
    }
   ],
   "source": [
    "json.loads(output)"
   ]
  }
 ],
 "metadata": {
  "kernelspec": {
   "display_name": "architect",
   "language": "python",
   "name": "python3"
  },
  "language_info": {
   "codemirror_mode": {
    "name": "ipython",
    "version": 3
   },
   "file_extension": ".py",
   "mimetype": "text/x-python",
   "name": "python",
   "nbconvert_exporter": "python",
   "pygments_lexer": "ipython3",
   "version": "3.11.4"
  },
  "orig_nbformat": 4
 },
 "nbformat": 4,
 "nbformat_minor": 2
}
