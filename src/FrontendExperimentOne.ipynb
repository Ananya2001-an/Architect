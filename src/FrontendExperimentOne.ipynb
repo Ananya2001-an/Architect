{
 "cells": [
  {
   "cell_type": "markdown",
   "metadata": {},
   "source": [
    "# LangChain Experiement Number 1"
   ]
  },
  {
   "cell_type": "code",
   "execution_count": 67,
   "metadata": {},
   "outputs": [],
   "source": [
    "import openai\n",
    "import os\n",
    "import dotenv\n",
    "dotenv.load_dotenv()\n",
    "from langchain.chat_models import ChatOpenAI\n",
    "from langchain.prompts import PromptTemplate\n",
    "from langchain.chains import LLMChain"
   ]
  },
  {
   "cell_type": "markdown",
   "metadata": {},
   "source": [
    "## Sample Project"
   ]
  },
  {
   "cell_type": "code",
   "execution_count": 68,
   "metadata": {},
   "outputs": [],
   "source": [
    "project_details=\"\"\"\n",
    "I want to build a startup that uses AI to help people learn languages.\n",
    "\"\"\"\n",
    "project_technologies=\"\"\"\n",
    "OpenAI API\n",
    "StreamLit\n",
    "\"\"\""
   ]
  },
  {
   "cell_type": "markdown",
   "metadata": {},
   "source": [
    "### Setting Up Chain No. 1: Feature Retrieval"
   ]
  },
  {
   "cell_type": "code",
   "execution_count": 69,
   "metadata": {},
   "outputs": [
    {
     "name": "stdout",
     "output_type": "stream",
     "text": [
      "MVP Features:\n",
      "1. User Registration: As a user, I want to be able to create an account with my email and password, so that I can access the language learning platform.\n",
      "2. User Login: As a registered user, I want to be able to log in to my account, so that I can access my personalized language learning experience.\n",
      "3. Language Selection: As a user, I want to be able to select the language I want to learn, so that the AI can provide relevant learning materials and exercises.\n",
      "4. Lesson Display: As a user, I want to be able to view the lessons available for the selected language, so that I can choose which topics to study.\n",
      "5. Lesson Content: As a user, I want to be able to access the content of each lesson, including text, images, and audio, so that I can learn the language effectively.\n",
      "6. Interactive Exercises: As a user, I want to be able to practice the language through interactive exercises, such as multiple-choice questions or fill-in-the-blanks, so that I can reinforce my learning.\n",
      "7. Progress Tracking: As a user, I want to be able to track my progress in learning the language, so that I can see my improvement over time.\n",
      "\n",
      "Additional Features:\n",
      "1. User Profile: As a user, I want to be able to update my profile information, such as my name and profile picture, so that I can personalize my language learning experience.\n",
      "2. Social Sharing: As a user, I want to be able to share my progress or achievements on social media platforms, so that I can motivate and inspire others to learn languages.\n",
      "3. Language Levels: As a user, I want to be able to choose my language proficiency level, so that the AI can adapt the learning materials and exercises to my current skill level.\n",
      "4. Vocabulary Builder: As a user, I want to be able to access a vocabulary builder tool, where I can learn and practice new words and phrases in the selected language.\n",
      "5. Pronunciation Practice: As a user, I want to be able to practice my pronunciation through speech recognition technology, so that I can improve my speaking skills.\n",
      "6. Gamification: As a user, I want to be able to earn badges or rewards for completing lessons or achieving language learning milestones, so that I can stay motivated and engaged.\n",
      "7. Community Forum: As a user, I want to be able to participate in a community forum, where I can ask questions, share tips, and interact with other language learners.\n",
      "\n",
      "By focusing on the MVP features, the startup can quickly develop a working prototype that allows users to register, log in, select a language, access lessons, and practice through interactive exercises. These core features provide the foundation for a language learning platform powered by AI. The additional features can be implemented in subsequent iterations to enhance the user experience and provide more advanced language learning capabilities.\n"
     ]
    }
   ],
   "source": [
    "llm = ChatOpenAI(temperature=0, max_tokens=1000, model=\"gpt-3.5-turbo-0613\")\n",
    "prompt = PromptTemplate(\n",
    "    input_variables=[\"project_details\", \"project_technologies\"],\n",
    "    template=\"\"\"\n",
    "    Given the following project description and tech stack, identify and elaborate on the key frontend features that would be necessary for development. The frontend features should not involve backend api calls or database interactions. The frontend features should be described in terms of user stories or detailed feature requirements.\n",
    "    This project is a hackathon project. Break apart the features into MVP and additional features. The MVP should be the minimum features necessary to have a working prototype.\n",
    "    Project description: {project_details}\n",
    "    Technologies: {project_technologies}\n",
    "    \"\"\"\n",
    ")\n",
    "\n",
    "chain = LLMChain(llm=llm, prompt=prompt)\n",
    "frontend_features = chain.run({\n",
    "    'project_details': project_details,\n",
    "    'project_technologies': project_technologies\n",
    "})\n",
    "print(frontend_features)"
   ]
  },
  {
   "cell_type": "markdown",
   "metadata": {},
   "source": [
    "## Setting Up Chain Two:  Feature Extraction"
   ]
  },
  {
   "cell_type": "code",
   "execution_count": 70,
   "metadata": {},
   "outputs": [
    {
     "name": "stdout",
     "output_type": "stream",
     "text": [
      "Technical Specification:\n",
      "\n",
      "MVP Features:\n",
      "1. User Registration:\n",
      "   - Technologies: HTML, CSS, JavaScript\n",
      "   - Architecture: Single-page application\n",
      "   - Pages: Registration page\n",
      "   - Components: Registration form (email input, password input, submit button)\n",
      "\n",
      "2. User Login:\n",
      "   - Technologies: HTML, CSS, JavaScript\n",
      "   - Architecture: Single-page application\n",
      "   - Pages: Login page\n",
      "   - Components: Login form (email input, password input, submit button)\n",
      "\n",
      "3. Language Selection:\n",
      "   - Technologies: HTML, CSS, JavaScript\n",
      "   - Architecture: Single-page application\n",
      "   - Pages: Language selection page\n",
      "   - Components: Language selection dropdown menu\n",
      "\n",
      "4. Lesson Display:\n",
      "   - Technologies: HTML, CSS, JavaScript\n",
      "   - Architecture: Single-page application\n",
      "   - Pages: Lesson display page\n",
      "   - Components: Lesson cards or list\n",
      "\n",
      "5. Lesson Content:\n",
      "   - Technologies: HTML, CSS, JavaScript\n",
      "   - Architecture: Single-page application\n",
      "   - Pages: Lesson content page\n",
      "   - Components: Text content, images, audio player\n",
      "\n",
      "6. Interactive Exercises:\n",
      "   - Technologies: HTML, CSS, JavaScript\n",
      "   - Architecture: Single-page application\n",
      "   - Pages: Exercise page\n",
      "   - Components: Interactive exercise components (multiple-choice questions, fill-in-the-blanks)\n",
      "\n",
      "7. Progress Tracking:\n",
      "   - Technologies: HTML, CSS, JavaScript\n",
      "   - Architecture: Single-page application\n",
      "   - Pages: Progress tracking page\n",
      "   - Components: Progress tracking components (progress bar, statistics)\n",
      "\n",
      "Additional Features:\n",
      "1. User Profile:\n",
      "   - Technologies: HTML, CSS, JavaScript\n",
      "   - Architecture: Single-page application\n",
      "   - Pages: Profile page\n",
      "   - Components: Profile information form (name input, profile picture upload)\n",
      "\n",
      "2. Social Sharing:\n",
      "   - Technologies: HTML, CSS, JavaScript\n",
      "   - Architecture: Single-page application\n",
      "   - Pages: Share progress page\n",
      "   - Components: Social media sharing buttons\n",
      "\n",
      "3. Language Levels:\n",
      "   - Technologies: HTML, CSS, JavaScript\n",
      "   - Architecture: Single-page application\n",
      "   - Pages: Language level selection page\n",
      "   - Components: Language level selection dropdown menu\n",
      "\n",
      "4. Vocabulary Builder:\n",
      "   - Technologies: HTML, CSS, JavaScript\n",
      "   - Architecture: Single-page application\n",
      "   - Pages: Vocabulary builder page\n",
      "   - Components: Vocabulary list, practice exercises\n",
      "\n",
      "5. Pronunciation Practice:\n",
      "   - Technologies: HTML, CSS, JavaScript, Speech recognition API\n",
      "   - Architecture: Single-page application\n",
      "   - Pages: Pronunciation practice page\n",
      "   - Components: Speech recognition component, pronunciation exercises\n",
      "\n",
      "6. Gamification:\n",
      "   - Technologies: HTML, CSS, JavaScript\n",
      "   - Architecture: Single-page application\n",
      "   - Pages: Badges/rewards page\n",
      "   - Components: Badges/rewards display\n",
      "\n",
      "7. Community Forum:\n",
      "   - Technologies: HTML, CSS, JavaScript\n",
      "   - Architecture: Single-page application\n",
      "   - Pages: Community forum page\n",
      "   - Components: Forum threads, post creation form\n",
      "\n",
      "Technical Considerations:\n",
      "- Integration with OpenAI API for AI-powered language learning features.\n",
      "- Use of StreamLit framework for rapid development and deployment of the frontend.\n",
      "- Responsive design to ensure compatibility with different devices and screen sizes.\n",
      "- Implementation of user authentication and authorization for secure access to user-specific data.\n",
      "- Implementation of data storage and retrieval mechanisms for user profiles, progress tracking, and community forum posts.\n",
      "- Implementation of appropriate error handling and validation mechanisms for user inputs.\n",
      "- Implementation of caching mechanisms to optimize performance and reduce API calls.\n",
      "- Regular testing and debugging to ensure the stability and functionality of the frontend application.\n"
     ]
    }
   ],
   "source": [
    "specification_prompt = PromptTemplate(\n",
    "    input_variables=[\"frontend_features\", \"project_technologies\"],\n",
    "    template=\"\"\"\n",
    "    Given the extracted frontend features, create a detailed technical specification. \n",
    "    This specification should include the technologies to be used, the architecture, pages to be developed, and the components required for each page.\n",
    "    However, they should be split into two categories: MVP and additional features. The MVP should be the minimum features necessary to have a working prototype.\n",
    "    You should ignore the technologies for the backend and focus on the frontend.\n",
    "    Please also mention any other technical considerations.\n",
    "\n",
    "    Frontend Features: {frontend_features}\n",
    "    Project Technologies: {project_technologies}\n",
    "    \"\"\"\n",
    ")\n",
    "\n",
    "specification_chain = LLMChain(llm=llm, prompt=specification_prompt)\n",
    "specification = specification_chain.run({\n",
    "    'frontend_features': frontend_features,\n",
    "    'project_technologies': project_technologies\n",
    "})\n",
    "print(specification)"
   ]
  },
  {
   "cell_type": "markdown",
   "metadata": {},
   "source": [
    "## Setting Up Chain Three: AI Approval"
   ]
  },
  {
   "cell_type": "code",
   "execution_count": 71,
   "metadata": {},
   "outputs": [
    {
     "name": "stdout",
     "output_type": "stream",
     "text": [
      "1\n"
     ]
    }
   ],
   "source": [
    "approval_prompt = PromptTemplate(\n",
    "    input_variables=[\"technical_specification\", \"aspect\", \"group_size\"],\n",
    "    template=\"\"\"\n",
    "    Given the developed technical specification, conduct a thorough review of the MVP Features only for any inconsistencies or issues. The MVP Features are specifically listed under the heading 'MVP Features'. \n",
    "Please completely disregard any features or sections listed under 'Additional Features' or any similar headers.\n",
    "\n",
    "This specification is only for the {aspect} aspect of the project, and should not be evaluated for other aspects, such as backend and database requirements.\n",
    "\n",
    "Also, evaluate whether the MVP Features, as described, can be realistically completed within the two day hackathon for {group_size} people, considering their complexity and the technology stack required.\n",
    "\n",
    "If the MVP Features can be realistically completed within the two day hackathon for {group_size} people considering their complexity and the technology stack required, and there are no inconsistencies or issues, output '1'.\n",
    "If not, output '0'. In the next line, provide comments explaining the reasons for disapproval, if any.\n",
    "\n",
    "Technical Specification: {technical_specification}\n",
    "\n",
    "Output only a json with keys 'approval' and 'comments'.\n",
    "    \"\"\"\n",
    ")\n",
    "\n",
    "approval_chain = LLMChain(llm=llm, prompt=approval_prompt)\n",
    "approval = approval_chain.run({\n",
    "    'technical_specification': specification,\n",
    "    'aspect': 'frontend',\n",
    "    'group_size': '4'\n",
    "})\n",
    "\n",
    "print(approval)"
   ]
  },
  {
   "cell_type": "markdown",
   "metadata": {},
   "source": [
    "## Setting Up Chain Four: AI Refinement"
   ]
  },
  {
   "cell_type": "code",
   "execution_count": 73,
   "metadata": {},
   "outputs": [
    {
     "name": "stdout",
     "output_type": "stream",
     "text": [
      "Approved!\n"
     ]
    }
   ],
   "source": [
    "refinement_prompt = PromptTemplate(\n",
    "    input_variables=[\"project_details\", \"frontend_features\", \"project_technologies\", \"technical_specification\", \"aspect\", \"group_size\", \"approval\"],\n",
    "    template=\"\"\"\n",
    "    Refine the project based on the following information:\n",
    "    Project Description: {project_details}\n",
    "    Frontend Features: {frontend_features}\n",
    "    Project Technologies: {project_technologies}\n",
    "    Technical Specification: {technical_specification}\n",
    "    Aspect: {aspect}\n",
    "    Group Size: {group_size}\n",
    "    Approval Status: {approval}\n",
    "    If approval is '0', update frontend features and technical specification to meet the criteria, ignoring backend and database. Otherwise just return Approved!\n",
    "    \"\"\"\n",
    ")\n",
    "\n",
    "refinement_chain = LLMChain(llm=llm, prompt=refinement_prompt)\n",
    "refinement = refinement_chain.run({\n",
    "    'project_details': project_details,\n",
    "    'frontend_features': frontend_features,\n",
    "    'project_technologies': project_technologies,\n",
    "    'technical_specification': specification,\n",
    "    'aspect': 'frontend',\n",
    "    'group_size': '4',\n",
    "    'approval': approval\n",
    "})\n",
    "print(refinement)\n"
   ]
  },
  {
   "cell_type": "code",
   "execution_count": null,
   "metadata": {},
   "outputs": [],
   "source": []
  }
 ],
 "metadata": {
  "kernelspec": {
   "display_name": "Architect",
   "language": "python",
   "name": "python3"
  },
  "language_info": {
   "codemirror_mode": {
    "name": "ipython",
    "version": 3
   },
   "file_extension": ".py",
   "mimetype": "text/x-python",
   "name": "python",
   "nbconvert_exporter": "python",
   "pygments_lexer": "ipython3",
   "version": "3.11.4"
  },
  "orig_nbformat": 4
 },
 "nbformat": 4,
 "nbformat_minor": 2
}
